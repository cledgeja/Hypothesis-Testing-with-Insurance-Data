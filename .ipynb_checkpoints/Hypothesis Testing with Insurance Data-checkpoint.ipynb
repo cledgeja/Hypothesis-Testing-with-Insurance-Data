{
 "cells": [
  {
   "cell_type": "code",
   "execution_count": 1,
   "id": "7dfed483",
   "metadata": {},
   "outputs": [],
   "source": [
    "import pandas as pd\n",
    "import numpy as np\n",
    "import regex as re\n",
    "import json,os\n",
    "import matplotlib.pyplot as plt\n",
    "from matplotlib.ticker import FuncFormatter\n",
    "import seaborn as sns\n",
    "import scipy.stats as stats"
   ]
  },
  {
   "cell_type": "code",
   "execution_count": 2,
   "id": "68437376",
   "metadata": {},
   "outputs": [
    {
     "data": {
      "text/plain": [
       "True"
      ]
     },
     "execution_count": 2,
     "metadata": {},
     "output_type": "execute_result"
    }
   ],
   "source": [
    "data_dir = 'data/'\n",
    "data_file = 'kaggle_health_insurance.csv.gz'\n",
    "file_exists = os.path.isfile(data_dir+data_file)\n",
    "file_exists"
   ]
  },
  {
   "cell_type": "code",
   "execution_count": 3,
   "id": "6783a98b",
   "metadata": {},
   "outputs": [
    {
     "name": "stdout",
     "output_type": "stream",
     "text": [
      "reading from data dir\n"
     ]
    },
    {
     "data": {
      "text/html": [
       "<div>\n",
       "<style scoped>\n",
       "    .dataframe tbody tr th:only-of-type {\n",
       "        vertical-align: middle;\n",
       "    }\n",
       "\n",
       "    .dataframe tbody tr th {\n",
       "        vertical-align: top;\n",
       "    }\n",
       "\n",
       "    .dataframe thead th {\n",
       "        text-align: right;\n",
       "    }\n",
       "</style>\n",
       "<table border=\"1\" class=\"dataframe\">\n",
       "  <thead>\n",
       "    <tr style=\"text-align: right;\">\n",
       "      <th></th>\n",
       "      <th>age</th>\n",
       "      <th>sex</th>\n",
       "      <th>bmi</th>\n",
       "      <th>children</th>\n",
       "      <th>smoker</th>\n",
       "      <th>region</th>\n",
       "      <th>charges</th>\n",
       "    </tr>\n",
       "  </thead>\n",
       "  <tbody>\n",
       "    <tr>\n",
       "      <th>0</th>\n",
       "      <td>19</td>\n",
       "      <td>female</td>\n",
       "      <td>27.900</td>\n",
       "      <td>0</td>\n",
       "      <td>yes</td>\n",
       "      <td>southwest</td>\n",
       "      <td>16884.92400</td>\n",
       "    </tr>\n",
       "    <tr>\n",
       "      <th>1</th>\n",
       "      <td>18</td>\n",
       "      <td>male</td>\n",
       "      <td>33.770</td>\n",
       "      <td>1</td>\n",
       "      <td>no</td>\n",
       "      <td>southeast</td>\n",
       "      <td>1725.55230</td>\n",
       "    </tr>\n",
       "    <tr>\n",
       "      <th>2</th>\n",
       "      <td>28</td>\n",
       "      <td>male</td>\n",
       "      <td>33.000</td>\n",
       "      <td>3</td>\n",
       "      <td>no</td>\n",
       "      <td>southeast</td>\n",
       "      <td>4449.46200</td>\n",
       "    </tr>\n",
       "    <tr>\n",
       "      <th>3</th>\n",
       "      <td>33</td>\n",
       "      <td>male</td>\n",
       "      <td>22.705</td>\n",
       "      <td>0</td>\n",
       "      <td>no</td>\n",
       "      <td>northwest</td>\n",
       "      <td>21984.47061</td>\n",
       "    </tr>\n",
       "    <tr>\n",
       "      <th>4</th>\n",
       "      <td>32</td>\n",
       "      <td>male</td>\n",
       "      <td>28.880</td>\n",
       "      <td>0</td>\n",
       "      <td>no</td>\n",
       "      <td>northwest</td>\n",
       "      <td>3866.85520</td>\n",
       "    </tr>\n",
       "  </tbody>\n",
       "</table>\n",
       "</div>"
      ],
      "text/plain": [
       "   age     sex     bmi  children smoker     region      charges\n",
       "0   19  female  27.900         0    yes  southwest  16884.92400\n",
       "1   18    male  33.770         1     no  southeast   1725.55230\n",
       "2   28    male  33.000         3     no  southeast   4449.46200\n",
       "3   33    male  22.705         0     no  northwest  21984.47061\n",
       "4   32    male  28.880         0     no  northwest   3866.85520"
      ]
     },
     "execution_count": 3,
     "metadata": {},
     "output_type": "execute_result"
    }
   ],
   "source": [
    "if file_exists == False:\n",
    "    print(\"fetching data\")\n",
    "    url = 'https://docs.google.com/spreadsheets/d/e/2PACX-1vQBN8DPW2rdiRrY34eEM53HAzakNGSRrw4ogI-j8HyCUrbqTB_z4CeIn2IvjLF-w_6sOe5pIlypJGAA/pub?output=csv'\n",
    "    df = pd.read_csv(url)\n",
    "    df.to_csv(data_dir+data_file, compression=\"gzip\", index=False)\n",
    "else:\n",
    "    print(\"reading from data dir\")\n",
    "    df = pd.read_csv(data_dir+data_file)\n",
    "df.head()"
   ]
  },
  {
   "cell_type": "code",
   "execution_count": 4,
   "id": "d1c3e1b8",
   "metadata": {},
   "outputs": [
    {
     "name": "stdout",
     "output_type": "stream",
     "text": [
      "<class 'pandas.core.frame.DataFrame'>\n",
      "RangeIndex: 1338 entries, 0 to 1337\n",
      "Data columns (total 7 columns):\n",
      " #   Column    Non-Null Count  Dtype  \n",
      "---  ------    --------------  -----  \n",
      " 0   age       1338 non-null   int64  \n",
      " 1   sex       1338 non-null   object \n",
      " 2   bmi       1338 non-null   float64\n",
      " 3   children  1338 non-null   int64  \n",
      " 4   smoker    1338 non-null   object \n",
      " 5   region    1338 non-null   object \n",
      " 6   charges   1338 non-null   float64\n",
      "dtypes: float64(2), int64(2), object(3)\n",
      "memory usage: 73.3+ KB\n"
     ]
    }
   ],
   "source": [
    "df.info()"
   ]
  },
  {
   "cell_type": "markdown",
   "id": "a0757da7",
   "metadata": {},
   "source": [
    "- Q1. Do smokers have higher insurance charges than non-smokers?\n",
    "- Q2. Are men more likely to smoke than women?\n",
    "- Q3. Do different regions have different charges, on average?"
   ]
  },
  {
   "cell_type": "markdown",
   "id": "2b4501f9",
   "metadata": {},
   "source": [
    "# Do smokers have higher insurance charges than non-smokers?\n",
    "* **Null Hypothesis:** There is no significant difference in rates for smokers compared to non-smnokers.\n",
    "* **Alternative Hypothesis:** Rate for smokers is significantly different than non-smokers.\n",
    "* **Siginificance Level:** alpha = (.05) \n"
   ]
  },
  {
   "cell_type": "code",
   "execution_count": 5,
   "id": "bb91e9dc",
   "metadata": {},
   "outputs": [
    {
     "data": {
      "text/plain": [
       "no     1064\n",
       "yes     274\n",
       "Name: smoker, dtype: int64"
      ]
     },
     "execution_count": 5,
     "metadata": {},
     "output_type": "execute_result"
    }
   ],
   "source": [
    "df['smoker'].value_counts()"
   ]
  },
  {
   "cell_type": "code",
   "execution_count": 6,
   "id": "49c7eab5",
   "metadata": {},
   "outputs": [],
   "source": [
    "df_smoker = df.loc[df['smoker']=='yes']\n",
    "df_smoker_non = df.loc[df['smoker']=='no']"
   ]
  },
  {
   "cell_type": "markdown",
   "id": "89f8629c",
   "metadata": {},
   "source": [
    "## Visualize and Seperate Groups"
   ]
  },
  {
   "cell_type": "code",
   "execution_count": 10,
   "id": "7fdb2a0e",
   "metadata": {},
   "outputs": [
    {
     "data": {
      "image/png": "[encoded data removed]",
      "text/plain": [
       "<Figure size 1080x576 with 2 Axes>"
      ]
     },
     "metadata": {
      "needs_background": "light"
     },
     "output_type": "display_data"
    }
   ],
   "source": [
    "fig, (ax,ax2) = plt.subplots(figsize= (15,8),ncols=2,constrained_layout=True,\n",
    "                            gridspec_kw={'width_ratios':[0.8,0.2]})\n",
    "sns.histplot(data=df, x='charges',hue='smoker',kde=True,common_norm=False\n",
    "                  ,stat='density',alpha=.5,hue_order=['yes','no'],ax=ax)\n",
    "sns.barplot(data=df, x='smoker',y='charges',ax = ax2,hue='smoker',hue_order=['yes','no'],alpha=.7) \n",
    "\n",
    "ax.axvline(df_smoker['charges'].mean(), ls='--',lw=3, \n",
    "           label=f\"True (Mean={df_smoker['charges'].mean():.2f})\",color='blue')\n",
    "\n",
    "ax.axvline(df_smoker_non['charges'].mean(), ls='--', lw=3, \n",
    "           label=f\"False (Mean={df_smoker_non['charges'].mean():.2f})\",color='orange')\n",
    "\n",
    "ax.legend(prop={\"size\":14}, loc='upper right')\n",
    "fig.suptitle('Insurance Rates by feature smoker',fontsize='xx-large');"
   ]
  },
  {
   "cell_type": "markdown",
   "id": "9213ad38",
   "metadata": {},
   "source": [
    "## T-Test\n",
    "* Since we are comparing a numeric measurement between 2 groups, we want to run a 2-sample (AKA independent T-test).\n",
    "    - No significant outliers\n",
    "        - absolute value of zscore > 3\n",
    "    - Normality\n",
    "    - Equal Variance"
   ]
  },
  {
   "cell_type": "markdown",
   "id": "2fbfc8de",
   "metadata": {},
   "source": [
    "### No Significant outliers"
   ]
  },
  {
   "cell_type": "code",
   "execution_count": 11,
   "id": "8d71ae41",
   "metadata": {},
   "outputs": [
    {
     "data": {
      "text/plain": [
       "0"
      ]
     },
     "execution_count": 11,
     "metadata": {},
     "output_type": "execute_result"
    }
   ],
   "source": [
    "# check for charge outliers by smoker for abs(zscore) > 3\n",
    "idx_outliers = np.abs(stats.zscore(df_smoker['charges'])) > 3\n",
    "idx_outliers.sum()"
   ]
  },
  {
   "cell_type": "code",
   "execution_count": 12,
   "id": "b71c10e5",
   "metadata": {},
   "outputs": [
    {
     "data": {
      "text/plain": [
       "24"
      ]
     },
     "execution_count": 12,
     "metadata": {},
     "output_type": "execute_result"
    }
   ],
   "source": [
    "# check for charge outliers by smoker for abs(zscore) > 3\n",
    "idx_outliers = np.abs(stats.zscore(df_smoker_non['charges'])) > 3\n",
    "idx_outliers.sum()"
   ]
  },
  {
   "cell_type": "markdown",
   "id": "c382ce35",
   "metadata": {},
   "source": [
    "Non-smoker has 24 outliers to remove"
   ]
  },
  {
   "cell_type": "code",
   "execution_count": 13,
   "id": "0e9d9f38",
   "metadata": {},
   "outputs": [
    {
     "data": {
      "text/plain": [
       "(1064, 7)"
      ]
     },
     "metadata": {},
     "output_type": "display_data"
    },
    {
     "data": {
      "text/plain": [
       "(1040, 7)"
      ]
     },
     "metadata": {},
     "output_type": "display_data"
    }
   ],
   "source": [
    "#remove outliers\n",
    "display(df_smoker_non.shape)\n",
    "df_smoker_non = df_smoker_non[(np.abs(stats.zscore(df_smoker_non['charges'])) < 3)]\n",
    "display(df_smoker_non.shape)"
   ]
  },
  {
   "cell_type": "markdown",
   "id": "f48b7723",
   "metadata": {},
   "source": [
    "### Check Normality for each group"
   ]
  },
  {
   "cell_type": "code",
   "execution_count": 14,
   "id": "f2f7bdff",
   "metadata": {},
   "outputs": [
    {
     "data": {
      "text/plain": [
       "NormaltestResult(statistic=61.03941356533816, pvalue=5.564930630036463e-14)"
      ]
     },
     "execution_count": 14,
     "metadata": {},
     "output_type": "execute_result"
    }
   ],
   "source": [
    "# test Smokers normality\n",
    "result_smoker = stats.normaltest(df_smoker['charges'])\n",
    "result_smoker"
   ]
  },
  {
   "cell_type": "code",
   "execution_count": 15,
   "id": "a619dc41",
   "metadata": {},
   "outputs": [
    {
     "data": {
      "text/plain": [
       "NormaltestResult(statistic=163.80367047789198, pvalue=2.6945416315543976e-36)"
      ]
     },
     "execution_count": 15,
     "metadata": {},
     "output_type": "execute_result"
    }
   ],
   "source": [
    "# test Smokers normality\n",
    "result_smoker_non = stats.normaltest(df_smoker_non['charges'])\n",
    "result_smoker_non"
   ]
  },
  {
   "cell_type": "markdown",
   "id": "81639a17",
   "metadata": {},
   "source": [
    "pvalues for both groups well below alpha of .05; data is **not normally distributed**. Both sample sizes are above 15 per group so can move forward"
   ]
  },
  {
   "cell_type": "markdown",
   "id": "4e518960",
   "metadata": {},
   "source": [
    "### Check for Equal Variance"
   ]
  },
  {
   "cell_type": "code",
   "execution_count": 16,
   "id": "c05cce4f",
   "metadata": {},
   "outputs": [
    {
     "data": {
      "text/plain": [
       "LeveneResult(statistic=520.7468821724297, pvalue=2.4247238784347824e-97)"
      ]
     },
     "execution_count": 16,
     "metadata": {},
     "output_type": "execute_result"
    }
   ],
   "source": [
    "## use Levene's test to check if groups have equal variance\n",
    "stats.levene(df_smoker['charges'],df_smoker_non['charges'])"
   ]
  },
  {
   "cell_type": "markdown",
   "id": "0ee66652",
   "metadata": {},
   "source": [
    "pvalue well below .05. Do not have equal variances. need to set **\"equal_var = False\"** when we perform our t-test."
   ]
  },
  {
   "cell_type": "markdown",
   "id": "e7325134",
   "metadata": {},
   "source": [
    "### Perform and evaluate the t-test"
   ]
  },
  {
   "cell_type": "code",
   "execution_count": 17,
   "id": "a572d9f9",
   "metadata": {},
   "outputs": [
    {
     "data": {
      "text/plain": [
       "Ttest_indResult(statistic=33.732305987092516, pvalue=2.575322662587431e-104)"
      ]
     },
     "execution_count": 17,
     "metadata": {},
     "output_type": "execute_result"
    }
   ],
   "source": [
    "# Independent t-test with equal_var set to False\n",
    "result = stats.ttest_ind(df_smoker['charges'], df_smoker_non['charges'], equal_var = False)\n",
    "result"
   ]
  },
  {
   "cell_type": "markdown",
   "id": "1c5c4ee1",
   "metadata": {},
   "source": [
    "**P value < alpha (0.05), reject the null hypothesis and accept that there is a significant difference between insurance rates for smokers vs non-smokers**"
   ]
  },
  {
   "cell_type": "markdown",
   "id": "04f6761e",
   "metadata": {},
   "source": [
    "# For Insurance carriers, are men more likely to smoke than women?\n",
    "* **Null Hypothesis:** For insurance carriers, there is no relationship between sex and if carrier smokes. \n",
    "* **Alternative Hypothesis:** Carriers sex has influence on if carrier smokes.\n",
    "* **Siginificance Level:** alpha = (.05)"
   ]
  },
  {
   "cell_type": "markdown",
   "id": "4ecac13b",
   "metadata": {},
   "source": [
    "## Visualize and Seperate Groups"
   ]
  },
  {
   "cell_type": "code",
   "execution_count": 18,
   "id": "8309c33e",
   "metadata": {},
   "outputs": [],
   "source": [
    "#https://stackoverflow.com/questions/61330427/set-y-axis-in-millions\n",
    "#https://stackoverflow.com/questions/70826659/matplotlib-bar-labels-with-new-f-string-format-style?noredirect=1&lq=1\n",
    "\n",
    "def human_format(num, pos):\n",
    "    magnitude = 0\n",
    "    while abs(num) >= 1000:\n",
    "        magnitude += 1\n",
    "        num /= 1000.0\n",
    "    # add more suffixes if you need them\n",
    "    return '%.0f%s' % (num, ['', 'K', 'M', 'B', 'T', 'P'][magnitude])\n",
    "formatter = FuncFormatter(human_format)"
   ]
  },
  {
   "cell_type": "code",
   "execution_count": 19,
   "id": "44db1f5b",
   "metadata": {},
   "outputs": [
    {
     "data": {
      "image/png": "[encoded data removed]",
      "text/plain": [
       "<Figure size 432x288 with 1 Axes>"
      ]
     },
     "metadata": {
      "needs_background": "light"
     },
     "output_type": "display_data"
    }
   ],
   "source": [
    "ax = sns.countplot(data=df, x='sex',hue='smoker')\n",
    "ax.set_title(\"Smokers by Sex\")\n",
    "for container in ax.containers:\n",
    "    labels = [  f'{human_format(x,1)}' for x in container.datavalues ]\n",
    "    ax.bar_label(container,labels=labels)"
   ]
  },
  {
   "cell_type": "markdown",
   "id": "b725ef40",
   "metadata": {},
   "source": [
    "## Chi-Squared\n",
    "For comparing a binary target category vs categorical groups.\n",
    "* put data from Smokers by sex into contingency table"
   ]
  },
  {
   "cell_type": "code",
   "execution_count": 20,
   "id": "cacca021",
   "metadata": {},
   "outputs": [
    {
     "data": {
      "text/html": [
       "<div>\n",
       "<style scoped>\n",
       "    .dataframe tbody tr th:only-of-type {\n",
       "        vertical-align: middle;\n",
       "    }\n",
       "\n",
       "    .dataframe tbody tr th {\n",
       "        vertical-align: top;\n",
       "    }\n",
       "\n",
       "    .dataframe thead th {\n",
       "        text-align: right;\n",
       "    }\n",
       "</style>\n",
       "<table border=\"1\" class=\"dataframe\">\n",
       "  <thead>\n",
       "    <tr style=\"text-align: right;\">\n",
       "      <th>smoker</th>\n",
       "      <th>no</th>\n",
       "      <th>yes</th>\n",
       "    </tr>\n",
       "    <tr>\n",
       "      <th>sex</th>\n",
       "      <th></th>\n",
       "      <th></th>\n",
       "    </tr>\n",
       "  </thead>\n",
       "  <tbody>\n",
       "    <tr>\n",
       "      <th>female</th>\n",
       "      <td>547</td>\n",
       "      <td>115</td>\n",
       "    </tr>\n",
       "    <tr>\n",
       "      <th>male</th>\n",
       "      <td>517</td>\n",
       "      <td>159</td>\n",
       "    </tr>\n",
       "  </tbody>\n",
       "</table>\n",
       "</div>"
      ],
      "text/plain": [
       "smoker   no  yes\n",
       "sex             \n",
       "female  547  115\n",
       "male    517  159"
      ]
     },
     "execution_count": 20,
     "metadata": {},
     "output_type": "execute_result"
    }
   ],
   "source": [
    "table = pd.crosstab(df['sex'], df['smoker'])\n",
    "table"
   ]
  },
  {
   "cell_type": "code",
   "execution_count": 21,
   "id": "85144695",
   "metadata": {},
   "outputs": [],
   "source": [
    "# Run the Test and Save the Output\n",
    "result = stats.chi2_contingency(table)\n",
    "chi2, p, deg_free, expected_vals = result #this labels the results"
   ]
  },
  {
   "cell_type": "code",
   "execution_count": 22,
   "id": "e8e46661",
   "metadata": {},
   "outputs": [
    {
     "name": "stdout",
     "output_type": "stream",
     "text": [
      "0.006548143503580696\n"
     ]
    },
    {
     "data": {
      "text/plain": [
       "True"
      ]
     },
     "execution_count": 22,
     "metadata": {},
     "output_type": "execute_result"
    }
   ],
   "source": [
    "# What was our p-value?\n",
    "print(p)\n",
    "p<.05"
   ]
  },
  {
   "cell_type": "markdown",
   "id": "8ccfca86",
   "metadata": {},
   "source": [
    "**pvalue for chi-squared <.05 reject null hypothesis. There is no relationship between sex and if insurance carrier is a smoker**"
   ]
  },
  {
   "cell_type": "markdown",
   "id": "5fff85d6",
   "metadata": {},
   "source": [
    "# Do different regions have different charges, on average?\n",
    "* **Null Hypothesis:** There is no statistical difference in mean rate between regions.\n",
    "* **Alternative Hypothesis:** Statistically, region has influence on mean rates.\n",
    "* **Siginificance Level:** alpha = (.05) "
   ]
  },
  {
   "cell_type": "code",
   "execution_count": 23,
   "id": "6cc67d8c",
   "metadata": {},
   "outputs": [
    {
     "data": {
      "text/plain": [
       "region\n",
       "northeast    13406.384516\n",
       "northwest    12417.575374\n",
       "southeast    14735.411438\n",
       "southwest    12346.937377\n",
       "Name: charges, dtype: float64"
      ]
     },
     "execution_count": 23,
     "metadata": {},
     "output_type": "execute_result"
    }
   ],
   "source": [
    "df.groupby('region')['charges'].mean()"
   ]
  },
  {
   "cell_type": "code",
   "execution_count": 24,
   "id": "87fb5200",
   "metadata": {},
   "outputs": [
    {
     "data": {
      "image/png": "[encoded data removed]",
      "text/plain": [
       "<Figure size 432x288 with 1 Axes>"
      ]
     },
     "metadata": {
      "needs_background": "light"
     },
     "output_type": "display_data"
    }
   ],
   "source": [
    "sns.barplot(data=df, x='region',y='charges',hue='region',alpha=.7 )\n",
    "plt.legend(loc='lower right',bbox_to_anchor=(1.35,.5),borderaxespad=0)\n",
    "plt.title(\"Insurance rates by region\");"
   ]
  },
  {
   "cell_type": "markdown",
   "id": "1da8ffed",
   "metadata": {},
   "source": [
    "## Analysis of Variance (ANOVA)"
   ]
  },
  {
   "cell_type": "code",
   "execution_count": 25,
   "id": "4d576e05",
   "metadata": {},
   "outputs": [
    {
     "data": {
      "text/plain": [
       "dict_keys(['southwest', 'southeast', 'northwest', 'northeast'])"
      ]
     },
     "execution_count": 25,
     "metadata": {},
     "output_type": "execute_result"
    }
   ],
   "source": [
    "## Create groups dictionary.\n",
    "groups = {}\n",
    "## Loop through all unique categories\n",
    "for i in df['region'].unique():\n",
    "    ## Get series for group and rename\n",
    "    data = df.loc[df['region']==i,'charges'].copy()\n",
    "    \n",
    "    # save into the dictionary\n",
    "    groups[i] = data\n",
    "groups.keys()"
   ]
  },
  {
   "cell_type": "markdown",
   "id": "c663b191",
   "metadata": {},
   "source": [
    "### Assumption of Normality"
   ]
  },
  {
   "cell_type": "code",
   "execution_count": 26,
   "id": "dc427178",
   "metadata": {},
   "outputs": [
    {
     "data": {
      "text/html": [
       "<div>\n",
       "<style scoped>\n",
       "    .dataframe tbody tr th:only-of-type {\n",
       "        vertical-align: middle;\n",
       "    }\n",
       "\n",
       "    .dataframe tbody tr th {\n",
       "        vertical-align: top;\n",
       "    }\n",
       "\n",
       "    .dataframe thead th {\n",
       "        text-align: right;\n",
       "    }\n",
       "</style>\n",
       "<table border=\"1\" class=\"dataframe\">\n",
       "  <thead>\n",
       "    <tr style=\"text-align: right;\">\n",
       "      <th></th>\n",
       "      <th>n</th>\n",
       "      <th>p</th>\n",
       "      <th>test stat</th>\n",
       "      <th>sig</th>\n",
       "    </tr>\n",
       "  </thead>\n",
       "  <tbody>\n",
       "    <tr>\n",
       "      <th>southwest</th>\n",
       "      <td>325.0</td>\n",
       "      <td>6.125298e-23</td>\n",
       "      <td>102.294059</td>\n",
       "      <td>True</td>\n",
       "    </tr>\n",
       "    <tr>\n",
       "      <th>southeast</th>\n",
       "      <td>364.0</td>\n",
       "      <td>4.953297e-15</td>\n",
       "      <td>65.877446</td>\n",
       "      <td>True</td>\n",
       "    </tr>\n",
       "    <tr>\n",
       "      <th>northwest</th>\n",
       "      <td>325.0</td>\n",
       "      <td>5.184209e-24</td>\n",
       "      <td>107.232850</td>\n",
       "      <td>True</td>\n",
       "    </tr>\n",
       "    <tr>\n",
       "      <th>northeast</th>\n",
       "      <td>324.0</td>\n",
       "      <td>1.455431e-19</td>\n",
       "      <td>86.747629</td>\n",
       "      <td>True</td>\n",
       "    </tr>\n",
       "  </tbody>\n",
       "</table>\n",
       "</div>"
      ],
      "text/plain": [
       "               n             p   test stat   sig\n",
       "southwest  325.0  6.125298e-23  102.294059  True\n",
       "southeast  364.0  4.953297e-15   65.877446  True\n",
       "northwest  325.0  5.184209e-24  107.232850  True\n",
       "northeast  324.0  1.455431e-19   86.747629  True"
      ]
     },
     "execution_count": 26,
     "metadata": {},
     "output_type": "execute_result"
    }
   ],
   "source": [
    "## Running normal test on each group and confirming there are >20 in each group\n",
    "norm_results = {}\n",
    "for i, data in groups.items():\n",
    "    stat, p = stats.normaltest(data)\n",
    "    ## save the p val, test statistic, and the size of the group\n",
    "    norm_results[i] = {'n': len(data),\n",
    "                             'p':p,\n",
    "                             'test stat':stat,}\n",
    "## convert to a dataframe\n",
    "norm_results_df = pd.DataFrame(norm_results).T\n",
    "### checking sig with pandas \n",
    "norm_results_df['sig'] = norm_results_df['p'] < .05 \n",
    "norm_results_df"
   ]
  },
  {
   "cell_type": "markdown",
   "id": "fc08bc70",
   "metadata": {},
   "source": [
    "**each region has a normal distribution**"
   ]
  },
  {
   "cell_type": "markdown",
   "id": "96ec5d19",
   "metadata": {},
   "source": [
    "### outliers "
   ]
  },
  {
   "cell_type": "code",
   "execution_count": 27,
   "id": "7a82740d",
   "metadata": {},
   "outputs": [
    {
     "name": "stdout",
     "output_type": "stream",
     "text": [
      "southwest : 317\n",
      "southeast : 362\n",
      "northwest : 318\n",
      "northeast : 320\n"
     ]
    }
   ],
   "source": [
    "# Drop outliers\n",
    "for x in groups.keys():\n",
    "    group_x = groups[x]\n",
    "    outliers = np.abs(stats.zscore(group_x)) > 3    \n",
    "    groups[x] = group_x[~outliers]\n",
    "    print(x,':',len(groups[x]))\n",
    "    "
   ]
  },
  {
   "cell_type": "markdown",
   "id": "7c226a41",
   "metadata": {},
   "source": [
    "### Testing Assumption of Equal Variance"
   ]
  },
  {
   "cell_type": "code",
   "execution_count": 28,
   "id": "c7454f4c",
   "metadata": {},
   "outputs": [
    {
     "data": {
      "text/plain": [
       "LeveneResult(statistic=9.518349004554441, pvalue=3.2035503711783993e-06)"
      ]
     },
     "execution_count": 28,
     "metadata": {},
     "output_type": "execute_result"
    }
   ],
   "source": [
    "stats.levene(*groups.values())"
   ]
  },
  {
   "cell_type": "markdown",
   "id": "3c115d39",
   "metadata": {},
   "source": [
    "**did not met the assumption of equal variance.** For One-way ANOVA, will use Kruskal-Wallis stats.kruskal"
   ]
  },
  {
   "cell_type": "code",
   "execution_count": 31,
   "id": "953f3f1c",
   "metadata": {},
   "outputs": [
    {
     "data": {
      "text/plain": [
       "KruskalResult(statistic=6.914045702545643, pvalue=0.07468847911322242)"
      ]
     },
     "execution_count": 31,
     "metadata": {},
     "output_type": "execute_result"
    }
   ],
   "source": [
    "# perform the correct hypothesis test\n",
    "# note again the use of the * operator for convenience\n",
    "result = stats.kruskal( *groups.values())\n",
    "result"
   ]
  },
  {
   "cell_type": "markdown",
   "id": "1beb5b82",
   "metadata": {},
   "source": [
    "the p-value for Kruskal-Wallis is > alpha of .05. Fail to reject null hypotheses. There is **no significant difference** between ranges for Insurance rates"
   ]
  }
 ],
 "metadata": {
  "kernelspec": {
   "display_name": "Python (dojo-env)",
   "language": "python",
   "name": "dojo-env"
  },
  "language_info": {
   "codemirror_mode": {
    "name": "ipython",
    "version": 3
   },
   "file_extension": ".py",
   "mimetype": "text/x-python",
   "name": "python",
   "nbconvert_exporter": "python",
   "pygments_lexer": "ipython3",
   "version": "3.8.13"
  },
  "toc": {
   "base_numbering": 1,
   "nav_menu": {},
   "number_sections": true,
   "sideBar": true,
   "skip_h1_title": false,
   "title_cell": "Table of Contents",
   "title_sidebar": "Contents",
   "toc_cell": false,
   "toc_position": {},
   "toc_section_display": true,
   "toc_window_display": false
  }
 },
 "nbformat": 4,
 "nbformat_minor": 5
}
